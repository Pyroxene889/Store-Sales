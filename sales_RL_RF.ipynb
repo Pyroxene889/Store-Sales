{
  "cells": [
    {
      "cell_type": "markdown",
      "metadata": {
        "id": "view-in-github",
        "colab_type": "text"
      },
      "source": [
        "<a href=\"https://colab.research.google.com/github/Pyroxene889/Store-Sales/blob/Ikram/sales_RL_RF.ipynb\" target=\"_parent\"><img src=\"https://colab.research.google.com/assets/colab-badge.svg\" alt=\"Open In Colab\"/></a>"
      ]
    },
    {
      "cell_type": "code",
      "source": [
        "!git clone https://github.com/Pyroxene889/Store-Sales"
      ],
      "metadata": {
        "colab": {
          "base_uri": "https://localhost:8080/"
        },
        "id": "6FD8iGcM8MKL",
        "outputId": "d387ae86-0edd-4c43-923e-dc08df8fa59a"
      },
      "id": "6FD8iGcM8MKL",
      "execution_count": 1,
      "outputs": [
        {
          "output_type": "stream",
          "name": "stdout",
          "text": [
            "Cloning into 'Store-Sales'...\n",
            "remote: Enumerating objects: 59, done.\u001b[K\n",
            "remote: Counting objects: 100% (59/59), done.\u001b[K\n",
            "remote: Compressing objects: 100% (55/55), done.\u001b[K\n",
            "remote: Total 59 (delta 28), reused 10 (delta 2), pack-reused 0\u001b[K\n",
            "Unpacking objects: 100% (59/59), 241.67 KiB | 119.00 KiB/s, done.\n"
          ]
        }
      ]
    },
    {
      "cell_type": "code",
      "source": [
        "import pandas as pd\n",
        "import numpy as np\n",
        "import matplotlib.pyplot as plt\n",
        "import plotly.express as px\n",
        "\n",
        "import seaborn as sns\n",
        "import plotly.graph_objects as go\n",
        "from plotly.subplots import make_subplots\n",
        "from plotly.offline import init_notebook_mode, iplot"
      ],
      "metadata": {
        "id": "9Qa7EudJ-G4W"
      },
      "id": "9Qa7EudJ-G4W",
      "execution_count": 2,
      "outputs": []
    },
    {
      "cell_type": "code",
      "source": [
        "from google.colab import drive\n",
        "drive.mount('/content/drive')"
      ],
      "metadata": {
        "colab": {
          "base_uri": "https://localhost:8080/",
          "height": 340
        },
        "id": "Jh6Oa5l1KOJj",
        "outputId": "c4ce5859-aaa2-4ffd-c4fe-3433960f1d3b"
      },
      "id": "Jh6Oa5l1KOJj",
      "execution_count": 3,
      "outputs": [
        {
          "output_type": "error",
          "ename": "KeyboardInterrupt",
          "evalue": "ignored",
          "traceback": [
            "\u001b[0;31m---------------------------------------------------------------------------\u001b[0m",
            "\u001b[0;31mKeyboardInterrupt\u001b[0m                         Traceback (most recent call last)",
            "\u001b[0;32m<ipython-input-3-d5df0069828e>\u001b[0m in \u001b[0;36m<module>\u001b[0;34m\u001b[0m\n\u001b[1;32m      1\u001b[0m \u001b[0;32mfrom\u001b[0m \u001b[0mgoogle\u001b[0m\u001b[0;34m.\u001b[0m\u001b[0mcolab\u001b[0m \u001b[0;32mimport\u001b[0m \u001b[0mdrive\u001b[0m\u001b[0;34m\u001b[0m\u001b[0;34m\u001b[0m\u001b[0m\n\u001b[0;32m----> 2\u001b[0;31m \u001b[0mdrive\u001b[0m\u001b[0;34m.\u001b[0m\u001b[0mmount\u001b[0m\u001b[0;34m(\u001b[0m\u001b[0;34m'/content/drive'\u001b[0m\u001b[0;34m)\u001b[0m\u001b[0;34m\u001b[0m\u001b[0;34m\u001b[0m\u001b[0m\n\u001b[0m",
            "\u001b[0;32m/usr/local/lib/python3.8/dist-packages/google/colab/drive.py\u001b[0m in \u001b[0;36mmount\u001b[0;34m(mountpoint, force_remount, timeout_ms, readonly)\u001b[0m\n\u001b[1;32m     99\u001b[0m \u001b[0;32mdef\u001b[0m \u001b[0mmount\u001b[0m\u001b[0;34m(\u001b[0m\u001b[0mmountpoint\u001b[0m\u001b[0;34m,\u001b[0m \u001b[0mforce_remount\u001b[0m\u001b[0;34m=\u001b[0m\u001b[0;32mFalse\u001b[0m\u001b[0;34m,\u001b[0m \u001b[0mtimeout_ms\u001b[0m\u001b[0;34m=\u001b[0m\u001b[0;36m120000\u001b[0m\u001b[0;34m,\u001b[0m \u001b[0mreadonly\u001b[0m\u001b[0;34m=\u001b[0m\u001b[0;32mFalse\u001b[0m\u001b[0;34m)\u001b[0m\u001b[0;34m:\u001b[0m\u001b[0;34m\u001b[0m\u001b[0;34m\u001b[0m\u001b[0m\n\u001b[1;32m    100\u001b[0m   \u001b[0;34m\"\"\"Mount your Google Drive at the specified mountpoint path.\"\"\"\u001b[0m\u001b[0;34m\u001b[0m\u001b[0;34m\u001b[0m\u001b[0m\n\u001b[0;32m--> 101\u001b[0;31m   return _mount(\n\u001b[0m\u001b[1;32m    102\u001b[0m       \u001b[0mmountpoint\u001b[0m\u001b[0;34m,\u001b[0m\u001b[0;34m\u001b[0m\u001b[0;34m\u001b[0m\u001b[0m\n\u001b[1;32m    103\u001b[0m       \u001b[0mforce_remount\u001b[0m\u001b[0;34m=\u001b[0m\u001b[0mforce_remount\u001b[0m\u001b[0;34m,\u001b[0m\u001b[0;34m\u001b[0m\u001b[0;34m\u001b[0m\u001b[0m\n",
            "\u001b[0;32m/usr/local/lib/python3.8/dist-packages/google/colab/drive.py\u001b[0m in \u001b[0;36m_mount\u001b[0;34m(mountpoint, force_remount, timeout_ms, ephemeral, readonly)\u001b[0m\n\u001b[1;32m    122\u001b[0m       'TBE_EPHEM_CREDS_ADDR'] if ephemeral else _os.environ['TBE_CREDS_ADDR']\n\u001b[1;32m    123\u001b[0m   \u001b[0;32mif\u001b[0m \u001b[0mephemeral\u001b[0m\u001b[0;34m:\u001b[0m\u001b[0;34m\u001b[0m\u001b[0;34m\u001b[0m\u001b[0m\n\u001b[0;32m--> 124\u001b[0;31m     _message.blocking_request(\n\u001b[0m\u001b[1;32m    125\u001b[0m         'request_auth', request={'authType': 'dfs_ephemeral'}, timeout_sec=None)\n\u001b[1;32m    126\u001b[0m \u001b[0;34m\u001b[0m\u001b[0m\n",
            "\u001b[0;32m/usr/local/lib/python3.8/dist-packages/google/colab/_message.py\u001b[0m in \u001b[0;36mblocking_request\u001b[0;34m(request_type, request, timeout_sec, parent)\u001b[0m\n\u001b[1;32m    169\u001b[0m   request_id = send_request(\n\u001b[1;32m    170\u001b[0m       request_type, request, parent=parent, expect_reply=True)\n\u001b[0;32m--> 171\u001b[0;31m   \u001b[0;32mreturn\u001b[0m \u001b[0mread_reply_from_input\u001b[0m\u001b[0;34m(\u001b[0m\u001b[0mrequest_id\u001b[0m\u001b[0;34m,\u001b[0m \u001b[0mtimeout_sec\u001b[0m\u001b[0;34m)\u001b[0m\u001b[0;34m\u001b[0m\u001b[0;34m\u001b[0m\u001b[0m\n\u001b[0m",
            "\u001b[0;32m/usr/local/lib/python3.8/dist-packages/google/colab/_message.py\u001b[0m in \u001b[0;36mread_reply_from_input\u001b[0;34m(message_id, timeout_sec)\u001b[0m\n\u001b[1;32m     95\u001b[0m     \u001b[0mreply\u001b[0m \u001b[0;34m=\u001b[0m \u001b[0m_read_next_input_message\u001b[0m\u001b[0;34m(\u001b[0m\u001b[0;34m)\u001b[0m\u001b[0;34m\u001b[0m\u001b[0;34m\u001b[0m\u001b[0m\n\u001b[1;32m     96\u001b[0m     \u001b[0;32mif\u001b[0m \u001b[0mreply\u001b[0m \u001b[0;34m==\u001b[0m \u001b[0m_NOT_READY\u001b[0m \u001b[0;32mor\u001b[0m \u001b[0;32mnot\u001b[0m \u001b[0misinstance\u001b[0m\u001b[0;34m(\u001b[0m\u001b[0mreply\u001b[0m\u001b[0;34m,\u001b[0m \u001b[0mdict\u001b[0m\u001b[0;34m)\u001b[0m\u001b[0;34m:\u001b[0m\u001b[0;34m\u001b[0m\u001b[0;34m\u001b[0m\u001b[0m\n\u001b[0;32m---> 97\u001b[0;31m       \u001b[0mtime\u001b[0m\u001b[0;34m.\u001b[0m\u001b[0msleep\u001b[0m\u001b[0;34m(\u001b[0m\u001b[0;36m0.025\u001b[0m\u001b[0;34m)\u001b[0m\u001b[0;34m\u001b[0m\u001b[0;34m\u001b[0m\u001b[0m\n\u001b[0m\u001b[1;32m     98\u001b[0m       \u001b[0;32mcontinue\u001b[0m\u001b[0;34m\u001b[0m\u001b[0;34m\u001b[0m\u001b[0m\n\u001b[1;32m     99\u001b[0m     if (reply.get('type') == 'colab_reply' and\n",
            "\u001b[0;31mKeyboardInterrupt\u001b[0m: "
          ]
        }
      ]
    },
    {
      "cell_type": "code",
      "source": [
        "df_train = pd.read_csv('/content/drive/MyDrive/Colab Notebooks/Cas_Etude/data_train.csv')"
      ],
      "metadata": {
        "id": "2fF8OH3E-nGW"
      },
      "id": "2fF8OH3E-nGW",
      "execution_count": null,
      "outputs": []
    },
    {
      "cell_type": "code",
      "source": [
        "df_test = pd.read_csv('/content/drive/MyDrive/Colab Notebooks/Cas_Etude/data_test.csv')"
      ],
      "metadata": {
        "id": "783ePX_pUdy3"
      },
      "id": "783ePX_pUdy3",
      "execution_count": null,
      "outputs": []
    },
    {
      "cell_type": "markdown",
      "source": [
        "# Data Visualization\n"
      ],
      "metadata": {
        "id": "ogiqWnXJEi6D"
      },
      "id": "ogiqWnXJEi6D"
    },
    {
      "cell_type": "code",
      "source": [
        "fig_type_holiday = px.histogram(df_train, x = \"type_holiday\", color = \"type_holiday\", template = \"plotly_dark\")\n",
        "fig_type_holiday.show()"
      ],
      "metadata": {
        "id": "_pM20VqUEoiO"
      },
      "id": "_pM20VqUEoiO",
      "execution_count": null,
      "outputs": []
    },
    {
      "cell_type": "code",
      "source": [
        "# Conversion de la variable type_batiment en une variable binaire\n",
        "new_df = df_train.copy()\n",
        "new_df['type_holiday'] = new_df['type_holiday'].map({'work': 0, 'Holiday':1,'Work Day': 2, 'Additional':3, 'Event':4, 'Transfer':5, 'Bridge':6})\n",
        "new_df.head()"
      ],
      "metadata": {
        "id": "O8GDf-hcFAaL"
      },
      "id": "O8GDf-hcFAaL",
      "execution_count": null,
      "outputs": []
    },
    {
      "cell_type": "code",
      "source": [
        "fig_locale = px.histogram(df_train, x = \"locale\", color = \"locale\", template = \"plotly_dark\")\n",
        "fig_locale.show()"
      ],
      "metadata": {
        "id": "gtLMvUeRFpY-"
      },
      "id": "gtLMvUeRFpY-",
      "execution_count": null,
      "outputs": []
    },
    {
      "cell_type": "code",
      "source": [
        "# Conversion de la variable type_batiment en une variable binaire\n",
        "new_df['locale'] = new_df['locale'].map({'National': 0, 'Regional':1,'Local': 2})\n",
        "new_df.head()"
      ],
      "metadata": {
        "id": "f4oUbYLsrTye"
      },
      "id": "f4oUbYLsrTye",
      "execution_count": null,
      "outputs": []
    },
    {
      "cell_type": "code",
      "source": [
        "fig_type_store = px.histogram(df_train, x = \"type_store\", color = \"type_store\", template = \"plotly_dark\")\n",
        "fig_type_store.show()"
      ],
      "metadata": {
        "id": "NIk8vJwhsNO3"
      },
      "id": "NIk8vJwhsNO3",
      "execution_count": null,
      "outputs": []
    },
    {
      "cell_type": "code",
      "source": [
        "# Conversion de la variable type_batiment en une variable binaire\n",
        "new_df['type_store'] = new_df['type_store'].map({'A': 0, 'B':1,'C': 2, 'D':3, 'E':4})\n",
        "new_df.head()"
      ],
      "metadata": {
        "id": "JnU1iAV1sOB4"
      },
      "id": "JnU1iAV1sOB4",
      "execution_count": null,
      "outputs": []
    },
    {
      "cell_type": "markdown",
      "source": [
        "## Correlation"
      ],
      "metadata": {
        "id": "EoV9zzeGsg3w"
      },
      "id": "EoV9zzeGsg3w"
    },
    {
      "cell_type": "code",
      "source": [
        "new_df = new_df.reset_index(drop = True)\n",
        "new_df.head()"
      ],
      "metadata": {
        "id": "AlC0tyNpawAL"
      },
      "id": "AlC0tyNpawAL",
      "execution_count": null,
      "outputs": []
    },
    {
      "cell_type": "code",
      "source": [
        "df_qualitatif = new_df.drop([\"date\", \"state\", \"city\", \"family\"], axis = 1)\n",
        "new_df = new_df.reset_index(drop = True)\n",
        "cor = df_qualitatif.corr()"
      ],
      "metadata": {
        "id": "dKaeaCYUslhY"
      },
      "id": "dKaeaCYUslhY",
      "execution_count": null,
      "outputs": []
    },
    {
      "cell_type": "code",
      "source": [
        "plt.figure(figsize = (10, 10))\n",
        "sns.heatmap(cor, annot = True)"
      ],
      "metadata": {
        "id": "8jj9DjUcswCS"
      },
      "id": "8jj9DjUcswCS",
      "execution_count": null,
      "outputs": []
    },
    {
      "cell_type": "code",
      "source": [
        "from sklearn.linear_model import LinearRegression\n",
        "from sklearn.model_selection import train_test_split\n",
        "from sklearn.metrics import mean_squared_error, mean_absolute_error, r2_score"
      ],
      "metadata": {
        "id": "zhp83waYt7gQ"
      },
      "id": "zhp83waYt7gQ",
      "execution_count": null,
      "outputs": []
    },
    {
      "cell_type": "markdown",
      "source": [
        "# Régression Linéaire"
      ],
      "metadata": {
        "id": "VZqfaVadua_K"
      },
      "id": "VZqfaVadua_K"
    },
    {
      "cell_type": "markdown",
      "source": [
        "## Training"
      ],
      "metadata": {
        "id": "LMkW6PVAwJgY"
      },
      "id": "LMkW6PVAwJgY"
    },
    {
      "cell_type": "code",
      "source": [
        "df_qualitatif.info()"
      ],
      "metadata": {
        "id": "QpQatm1wMOG5"
      },
      "id": "QpQatm1wMOG5",
      "execution_count": null,
      "outputs": []
    },
    {
      "cell_type": "code",
      "source": [
        "df_qualitatif.isnull().sum()"
      ],
      "metadata": {
        "id": "5nxh7mYLMywE"
      },
      "id": "5nxh7mYLMywE",
      "execution_count": null,
      "outputs": []
    },
    {
      "cell_type": "code",
      "source": [
        "# Séparer les données en entrées (X) et sorties (y)\n",
        "X = df_qualitatif.drop(columns=[\"sales\"])\n",
        "y = df_qualitatif.reset_index(drop = True)[\"sales\"]\n",
        "print(y.reset_index(drop = True, inplace=True))\n",
        "\n",
        "# Séparer les données en ensembles d'entraînement et de validation\n",
        "X_train, X_val, y_train, y_val = train_test_split(X, y, test_size=0.2)\n",
        "\n",
        "# Entraîner le modèle de régression linéaire multiple\n",
        "regressor = LinearRegression()\n",
        "regressor.fit(X_train, y_train)\n",
        "\n",
        "# Effectuer des prédictions sur l'ensemble de validation\n",
        "y_pred = regressor.predict(X_val)\n",
        "\n"
      ],
      "metadata": {
        "id": "dFDRIlE1tmiU"
      },
      "id": "dFDRIlE1tmiU",
      "execution_count": null,
      "outputs": []
    },
    {
      "cell_type": "code",
      "source": [
        "y_val.describe()"
      ],
      "metadata": {
        "id": "e8iNome5aN7G"
      },
      "id": "e8iNome5aN7G",
      "execution_count": null,
      "outputs": []
    },
    {
      "cell_type": "markdown",
      "source": [
        "## Evaluation:"
      ],
      "metadata": {
        "id": "lTKGH0TNwF1c"
      },
      "id": "lTKGH0TNwF1c"
    },
    {
      "cell_type": "code",
      "source": [
        "print('MSE :', mean_squared_error(y_val, y_pred))\n",
        "print('RMSE :', np.sqrt(mean_squared_error(y_val, y_pred)))\n",
        "print('MAE :', mean_absolute_error(y_val, y_pred))\n",
        "print(\"R2:\", regressor.score(X_val, y_val))"
      ],
      "metadata": {
        "id": "Affs5oDLvyDP"
      },
      "id": "Affs5oDLvyDP",
      "execution_count": null,
      "outputs": []
    },
    {
      "cell_type": "markdown",
      "source": [
        "# Random Forest"
      ],
      "metadata": {
        "id": "j2kj9ulrwSjx"
      },
      "id": "j2kj9ulrwSjx"
    },
    {
      "cell_type": "markdown",
      "source": [
        "## Training"
      ],
      "metadata": {
        "id": "7vY7naI7wWZ-"
      },
      "id": "7vY7naI7wWZ-"
    },
    {
      "cell_type": "code",
      "source": [
        "from sklearn.ensemble import RandomForestRegressor\n",
        "from sklearn.metrics import mean_squared_error, r2_score"
      ],
      "metadata": {
        "id": "IPTAMEfuwSME"
      },
      "id": "IPTAMEfuwSME",
      "execution_count": null,
      "outputs": []
    },
    {
      "cell_type": "code",
      "source": [
        "# Entraînement du modèle Random Forest\n",
        "model = RandomForestRegressor(n_estimators=100, random_state=0)\n",
        "model.fit(X_train, y_train)\n",
        "\n",
        "# Prédiction sur les données de test\n",
        "y_pred_RF = model.predict(X_val)\n"
      ],
      "metadata": {
        "id": "N3M5C3cWwviP"
      },
      "id": "N3M5C3cWwviP",
      "execution_count": null,
      "outputs": []
    },
    {
      "cell_type": "markdown",
      "source": [
        "## Evaluation"
      ],
      "metadata": {
        "id": "a_tWsJylxM-D"
      },
      "id": "a_tWsJylxM-D"
    },
    {
      "cell_type": "code",
      "source": [
        "# Évaluation du modèle\n",
        "mse = mean_squared_error(y_val, y_pred)\n",
        "r2 = r2_score(y_val, y_pred)\n",
        "\n",
        "# Afficher les résultats\n",
        "print('Mean Squared Error:', mse)\n",
        "print('RMSE :', np.sqrt(mean_squared_error(y_val, y_pred)))\n",
        "print('MAE :', mean_absolute_error(y_val, y_pred))\n",
        "print('R2 Score:', r2)\n",
        "\n",
        "\n",
        "# Visualisation des résultats avec un graphe\n",
        "plt.scatter(y_val, y_pred_RF)\n",
        "plt.xlabel('True Values')\n",
        "plt.ylabel('Predictions')\n",
        "plt.show()"
      ],
      "metadata": {
        "id": "KzKTyVr-xMUK"
      },
      "id": "KzKTyVr-xMUK",
      "execution_count": null,
      "outputs": []
    },
    {
      "cell_type": "code",
      "source": [
        "\n",
        "# Évaluez le modèle en utilisant classification_report\n",
        "print(classification_report(y_val, y_pred))\n",
        "\n",
        "# Évaluez le modèle en utilisant confusion_matrix\n",
        "confusion_matrix = confusion_matrix(y_val, y_pred)\n",
        "confusion_matrix"
      ],
      "metadata": {
        "id": "5OshiB3NxpqB"
      },
      "id": "5OshiB3NxpqB",
      "execution_count": null,
      "outputs": []
    }
  ],
  "metadata": {
    "kernelspec": {
      "display_name": "Python 3 (ipykernel)",
      "language": "python",
      "name": "python3"
    },
    "language_info": {
      "codemirror_mode": {
        "name": "ipython",
        "version": 3
      },
      "file_extension": ".py",
      "mimetype": "text/x-python",
      "name": "python",
      "nbconvert_exporter": "python",
      "pygments_lexer": "ipython3",
      "version": "3.9.12"
    },
    "toc-showcode": false,
    "toc-showmarkdowntxt": true,
    "colab": {
      "provenance": [],
      "include_colab_link": true
    },
    "accelerator": "GPU",
    "gpuClass": "standard"
  },
  "nbformat": 4,
  "nbformat_minor": 5
}