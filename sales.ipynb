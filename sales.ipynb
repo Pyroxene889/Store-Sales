{
  "cells": [
    {
      "cell_type": "code",
      "source": [
        "!git clone https://github.com/Pyroxene889/Store-Sales"
      ],
      "metadata": {
        "colab": {
          "base_uri": "https://localhost:8080/"
        },
        "id": "6FD8iGcM8MKL",
        "outputId": "8e8661ed-737c-4222-9acc-a86531602c6d"
      },
      "id": "6FD8iGcM8MKL",
      "execution_count": 3,
      "outputs": [
        {
          "output_type": "stream",
          "name": "stdout",
          "text": [
            "Cloning into 'Store-Sales'...\n",
            "remote: Enumerating objects: 30, done.\u001b[K\n",
            "remote: Counting objects: 100% (30/30), done.\u001b[K\n",
            "remote: Compressing objects: 100% (26/26), done.\u001b[K\n",
            "remote: Total 30 (delta 9), reused 10 (delta 2), pack-reused 0\u001b[K\n",
            "Unpacking objects: 100% (30/30), 79.20 KiB | 1.65 MiB/s, done.\n"
          ]
        }
      ]
    },
    {
      "cell_type": "code",
      "source": [
        "!pip install opendatasets"
      ],
      "metadata": {
        "id": "jLGlCyOb-CGm",
        "outputId": "a1a22519-711a-426d-9b81-5881e3727202",
        "colab": {
          "base_uri": "https://localhost:8080/"
        }
      },
      "id": "jLGlCyOb-CGm",
      "execution_count": 10,
      "outputs": [
        {
          "output_type": "stream",
          "name": "stdout",
          "text": [
            "Looking in indexes: https://pypi.org/simple, https://us-python.pkg.dev/colab-wheels/public/simple/\n",
            "Collecting opendatasets\n",
            "  Downloading opendatasets-0.1.22-py3-none-any.whl (15 kB)\n",
            "Requirement already satisfied: tqdm in /usr/local/lib/python3.8/dist-packages (from opendatasets) (4.64.1)\n",
            "Requirement already satisfied: click in /usr/local/lib/python3.8/dist-packages (from opendatasets) (7.1.2)\n",
            "Requirement already satisfied: kaggle in /usr/local/lib/python3.8/dist-packages (from opendatasets) (1.5.12)\n",
            "Requirement already satisfied: python-slugify in /usr/local/lib/python3.8/dist-packages (from kaggle->opendatasets) (7.0.0)\n",
            "Requirement already satisfied: six>=1.10 in /usr/local/lib/python3.8/dist-packages (from kaggle->opendatasets) (1.15.0)\n",
            "Requirement already satisfied: certifi in /usr/local/lib/python3.8/dist-packages (from kaggle->opendatasets) (2022.12.7)\n",
            "Requirement already satisfied: requests in /usr/local/lib/python3.8/dist-packages (from kaggle->opendatasets) (2.25.1)\n",
            "Requirement already satisfied: urllib3 in /usr/local/lib/python3.8/dist-packages (from kaggle->opendatasets) (1.24.3)\n",
            "Requirement already satisfied: python-dateutil in /usr/local/lib/python3.8/dist-packages (from kaggle->opendatasets) (2.8.2)\n",
            "Requirement already satisfied: text-unidecode>=1.3 in /usr/local/lib/python3.8/dist-packages (from python-slugify->kaggle->opendatasets) (1.3)\n",
            "Requirement already satisfied: idna<3,>=2.5 in /usr/local/lib/python3.8/dist-packages (from requests->kaggle->opendatasets) (2.10)\n",
            "Requirement already satisfied: chardet<5,>=3.0.2 in /usr/local/lib/python3.8/dist-packages (from requests->kaggle->opendatasets) (4.0.0)\n",
            "Installing collected packages: opendatasets\n",
            "Successfully installed opendatasets-0.1.22\n"
          ]
        }
      ]
    },
    {
      "cell_type": "code",
      "source": [
        "import opendatasets as od\n",
        "import pandas as pd\n",
        "import numpy as np\n",
        "import matplotlib.pyplot as plt\n",
        "import plotly.express as px"
      ],
      "metadata": {
        "id": "9Qa7EudJ-G4W"
      },
      "id": "9Qa7EudJ-G4W",
      "execution_count": 11,
      "outputs": []
    },
    {
      "cell_type": "code",
      "source": [
        "od.download(\n",
        "\t\"https://www.kaggle.com/datasets/ubiratanfilho/store-forecasting-sales-merged-tables\", force = True)"
      ],
      "metadata": {
        "id": "8QDVU9A_-K7c",
        "outputId": "f897d11c-7416-4a9a-b90e-55c9e1e52630",
        "colab": {
          "base_uri": "https://localhost:8080/"
        }
      },
      "id": "8QDVU9A_-K7c",
      "execution_count": 12,
      "outputs": [
        {
          "output_type": "stream",
          "name": "stdout",
          "text": [
            "Please provide your Kaggle credentials to download this dataset. Learn more: http://bit.ly/kaggle-creds\n",
            "Your Kaggle username: ikramlaaouane\n",
            "Your Kaggle Key: ··········\n",
            "Downloading store-forecasting-sales-merged-tables.zip to ./store-forecasting-sales-merged-tables\n"
          ]
        },
        {
          "output_type": "stream",
          "name": "stderr",
          "text": [
            "100%|██████████| 13.2M/13.2M [00:00<00:00, 98.8MB/s]"
          ]
        },
        {
          "output_type": "stream",
          "name": "stdout",
          "text": [
            "\n"
          ]
        },
        {
          "output_type": "stream",
          "name": "stderr",
          "text": [
            "\n"
          ]
        }
      ]
    },
    {
      "cell_type": "code",
      "source": [
        "# reading the csv file\n",
        "file =('/content/store-forecasting-sales-merged-tables/test_data_cleaned.csv')\n",
        "newData = pd.read_csv(file)\n",
        "\n",
        "# displaying the contents of the csv file\n",
        "newData.head()"
      ],
      "metadata": {
        "id": "xCue7167-Oxu",
        "outputId": "417b6945-d6dd-4069-ec99-d93c1da9da02",
        "colab": {
          "base_uri": "https://localhost:8080/",
          "height": 206
        }
      },
      "id": "xCue7167-Oxu",
      "execution_count": 13,
      "outputs": [
        {
          "output_type": "execute_result",
          "data": {
            "text/plain": [
              "         date  store_nbr     family  onpromotion   city type_of_store  \\\n",
              "0  2017-08-16          1     Others            0  Quito             D   \n",
              "1  2017-08-16          1     Others            0  Quito             D   \n",
              "2  2017-08-16          1     Others            2  Quito             D   \n",
              "3  2017-08-16          1  BEVERAGES           20  Quito             D   \n",
              "4  2017-08-16          1     Others            0  Quito             D   \n",
              "\n",
              "   cluster  dcoilwtico  transactions  n_holidays  \n",
              "0       13        46.8           NaN         0.0  \n",
              "1       13        46.8           NaN         0.0  \n",
              "2       13        46.8           NaN         0.0  \n",
              "3       13        46.8           NaN         0.0  \n",
              "4       13        46.8           NaN         0.0  "
            ],
            "text/html": [
              "\n",
              "  <div id=\"df-cb2e724f-3ab9-49e0-a38e-ca3128d0c1fb\">\n",
              "    <div class=\"colab-df-container\">\n",
              "      <div>\n",
              "<style scoped>\n",
              "    .dataframe tbody tr th:only-of-type {\n",
              "        vertical-align: middle;\n",
              "    }\n",
              "\n",
              "    .dataframe tbody tr th {\n",
              "        vertical-align: top;\n",
              "    }\n",
              "\n",
              "    .dataframe thead th {\n",
              "        text-align: right;\n",
              "    }\n",
              "</style>\n",
              "<table border=\"1\" class=\"dataframe\">\n",
              "  <thead>\n",
              "    <tr style=\"text-align: right;\">\n",
              "      <th></th>\n",
              "      <th>date</th>\n",
              "      <th>store_nbr</th>\n",
              "      <th>family</th>\n",
              "      <th>onpromotion</th>\n",
              "      <th>city</th>\n",
              "      <th>type_of_store</th>\n",
              "      <th>cluster</th>\n",
              "      <th>dcoilwtico</th>\n",
              "      <th>transactions</th>\n",
              "      <th>n_holidays</th>\n",
              "    </tr>\n",
              "  </thead>\n",
              "  <tbody>\n",
              "    <tr>\n",
              "      <th>0</th>\n",
              "      <td>2017-08-16</td>\n",
              "      <td>1</td>\n",
              "      <td>Others</td>\n",
              "      <td>0</td>\n",
              "      <td>Quito</td>\n",
              "      <td>D</td>\n",
              "      <td>13</td>\n",
              "      <td>46.8</td>\n",
              "      <td>NaN</td>\n",
              "      <td>0.0</td>\n",
              "    </tr>\n",
              "    <tr>\n",
              "      <th>1</th>\n",
              "      <td>2017-08-16</td>\n",
              "      <td>1</td>\n",
              "      <td>Others</td>\n",
              "      <td>0</td>\n",
              "      <td>Quito</td>\n",
              "      <td>D</td>\n",
              "      <td>13</td>\n",
              "      <td>46.8</td>\n",
              "      <td>NaN</td>\n",
              "      <td>0.0</td>\n",
              "    </tr>\n",
              "    <tr>\n",
              "      <th>2</th>\n",
              "      <td>2017-08-16</td>\n",
              "      <td>1</td>\n",
              "      <td>Others</td>\n",
              "      <td>2</td>\n",
              "      <td>Quito</td>\n",
              "      <td>D</td>\n",
              "      <td>13</td>\n",
              "      <td>46.8</td>\n",
              "      <td>NaN</td>\n",
              "      <td>0.0</td>\n",
              "    </tr>\n",
              "    <tr>\n",
              "      <th>3</th>\n",
              "      <td>2017-08-16</td>\n",
              "      <td>1</td>\n",
              "      <td>BEVERAGES</td>\n",
              "      <td>20</td>\n",
              "      <td>Quito</td>\n",
              "      <td>D</td>\n",
              "      <td>13</td>\n",
              "      <td>46.8</td>\n",
              "      <td>NaN</td>\n",
              "      <td>0.0</td>\n",
              "    </tr>\n",
              "    <tr>\n",
              "      <th>4</th>\n",
              "      <td>2017-08-16</td>\n",
              "      <td>1</td>\n",
              "      <td>Others</td>\n",
              "      <td>0</td>\n",
              "      <td>Quito</td>\n",
              "      <td>D</td>\n",
              "      <td>13</td>\n",
              "      <td>46.8</td>\n",
              "      <td>NaN</td>\n",
              "      <td>0.0</td>\n",
              "    </tr>\n",
              "  </tbody>\n",
              "</table>\n",
              "</div>\n",
              "      <button class=\"colab-df-convert\" onclick=\"convertToInteractive('df-cb2e724f-3ab9-49e0-a38e-ca3128d0c1fb')\"\n",
              "              title=\"Convert this dataframe to an interactive table.\"\n",
              "              style=\"display:none;\">\n",
              "        \n",
              "  <svg xmlns=\"http://www.w3.org/2000/svg\" height=\"24px\"viewBox=\"0 0 24 24\"\n",
              "       width=\"24px\">\n",
              "    <path d=\"M0 0h24v24H0V0z\" fill=\"none\"/>\n",
              "    <path d=\"M18.56 5.44l.94 2.06.94-2.06 2.06-.94-2.06-.94-.94-2.06-.94 2.06-2.06.94zm-11 1L8.5 8.5l.94-2.06 2.06-.94-2.06-.94L8.5 2.5l-.94 2.06-2.06.94zm10 10l.94 2.06.94-2.06 2.06-.94-2.06-.94-.94-2.06-.94 2.06-2.06.94z\"/><path d=\"M17.41 7.96l-1.37-1.37c-.4-.4-.92-.59-1.43-.59-.52 0-1.04.2-1.43.59L10.3 9.45l-7.72 7.72c-.78.78-.78 2.05 0 2.83L4 21.41c.39.39.9.59 1.41.59.51 0 1.02-.2 1.41-.59l7.78-7.78 2.81-2.81c.8-.78.8-2.07 0-2.86zM5.41 20L4 18.59l7.72-7.72 1.47 1.35L5.41 20z\"/>\n",
              "  </svg>\n",
              "      </button>\n",
              "      \n",
              "  <style>\n",
              "    .colab-df-container {\n",
              "      display:flex;\n",
              "      flex-wrap:wrap;\n",
              "      gap: 12px;\n",
              "    }\n",
              "\n",
              "    .colab-df-convert {\n",
              "      background-color: #E8F0FE;\n",
              "      border: none;\n",
              "      border-radius: 50%;\n",
              "      cursor: pointer;\n",
              "      display: none;\n",
              "      fill: #1967D2;\n",
              "      height: 32px;\n",
              "      padding: 0 0 0 0;\n",
              "      width: 32px;\n",
              "    }\n",
              "\n",
              "    .colab-df-convert:hover {\n",
              "      background-color: #E2EBFA;\n",
              "      box-shadow: 0px 1px 2px rgba(60, 64, 67, 0.3), 0px 1px 3px 1px rgba(60, 64, 67, 0.15);\n",
              "      fill: #174EA6;\n",
              "    }\n",
              "\n",
              "    [theme=dark] .colab-df-convert {\n",
              "      background-color: #3B4455;\n",
              "      fill: #D2E3FC;\n",
              "    }\n",
              "\n",
              "    [theme=dark] .colab-df-convert:hover {\n",
              "      background-color: #434B5C;\n",
              "      box-shadow: 0px 1px 3px 1px rgba(0, 0, 0, 0.15);\n",
              "      filter: drop-shadow(0px 1px 2px rgba(0, 0, 0, 0.3));\n",
              "      fill: #FFFFFF;\n",
              "    }\n",
              "  </style>\n",
              "\n",
              "      <script>\n",
              "        const buttonEl =\n",
              "          document.querySelector('#df-cb2e724f-3ab9-49e0-a38e-ca3128d0c1fb button.colab-df-convert');\n",
              "        buttonEl.style.display =\n",
              "          google.colab.kernel.accessAllowed ? 'block' : 'none';\n",
              "\n",
              "        async function convertToInteractive(key) {\n",
              "          const element = document.querySelector('#df-cb2e724f-3ab9-49e0-a38e-ca3128d0c1fb');\n",
              "          const dataTable =\n",
              "            await google.colab.kernel.invokeFunction('convertToInteractive',\n",
              "                                                     [key], {});\n",
              "          if (!dataTable) return;\n",
              "\n",
              "          const docLinkHtml = 'Like what you see? Visit the ' +\n",
              "            '<a target=\"_blank\" href=https://colab.research.google.com/notebooks/data_table.ipynb>data table notebook</a>'\n",
              "            + ' to learn more about interactive tables.';\n",
              "          element.innerHTML = '';\n",
              "          dataTable['output_type'] = 'display_data';\n",
              "          await google.colab.output.renderOutput(dataTable, element);\n",
              "          const docLink = document.createElement('div');\n",
              "          docLink.innerHTML = docLinkHtml;\n",
              "          element.appendChild(docLink);\n",
              "        }\n",
              "      </script>\n",
              "    </div>\n",
              "  </div>\n",
              "  "
            ]
          },
          "metadata": {},
          "execution_count": 13
        }
      ]
    },
    {
      "cell_type": "code",
      "source": [
        "df_train = pd.read_csv('/content/store-forecasting-sales-merged-tables/train_data_cleaned.csv')\n",
        "\n",
        "groupe_family= df_train.groupby(['family'])['family'].count()\n",
        "\n",
        "print(groupe_family)"
      ],
      "metadata": {
        "id": "csegYdyl-UFI",
        "outputId": "0bdde06e-cc64-42ab-c2a7-77cfb05db9a9",
        "colab": {
          "base_uri": "https://localhost:8080/"
        }
      },
      "id": "csegYdyl-UFI",
      "execution_count": 14,
      "outputs": [
        {
          "output_type": "stream",
          "name": "stdout",
          "text": [
            "family\n",
            "BEVERAGES          90936\n",
            "BREAD/BAKERY       90936\n",
            "CLEANING           90936\n",
            "DAIRY              90936\n",
            "DELI               90936\n",
            "GROCERY I          90936\n",
            "MEATS              90936\n",
            "Others           2091528\n",
            "PERSONAL CARE      90936\n",
            "POULTRY            90936\n",
            "PRODUCE            90936\n",
            "Name: family, dtype: int64\n"
          ]
        }
      ]
    },
    {
      "cell_type": "code",
      "execution_count": 7,
      "id": "c24152ed-445b-4e4a-bf87-81ff21b67533",
      "metadata": {
        "id": "c24152ed-445b-4e4a-bf87-81ff21b67533",
        "outputId": "c1095b2f-b9c6-497f-f8c7-efb98c398094",
        "colab": {
          "base_uri": "https://localhost:8080/",
          "height": 336
        }
      },
      "outputs": [
        {
          "output_type": "stream",
          "name": "stdout",
          "text": [
            "hello word\n",
            "5\n"
          ]
        },
        {
          "output_type": "execute_result",
          "data": {
            "text/plain": [
              "          store_nbr   onpromotion       cluster    dcoilwtico  transactions  \\\n",
              "count  28512.000000  28512.000000  28512.000000  21384.000000           0.0   \n",
              "mean      27.500000      6.965383      8.481481     47.243333           NaN   \n",
              "std       15.586057     20.683952      4.649816      0.753922           NaN   \n",
              "min        1.000000      0.000000      1.000000     45.960000           NaN   \n",
              "25%       14.000000      0.000000      4.000000     46.715000           NaN   \n",
              "50%       27.500000      0.000000      8.500000     47.250000           NaN   \n",
              "75%       41.000000      6.000000     13.000000     47.650000           NaN   \n",
              "max       54.000000    646.000000     17.000000     48.590000           NaN   \n",
              "\n",
              "         n_holidays  \n",
              "count  28512.000000  \n",
              "mean       0.062500  \n",
              "std        0.242066  \n",
              "min        0.000000  \n",
              "25%        0.000000  \n",
              "50%        0.000000  \n",
              "75%        0.000000  \n",
              "max        1.000000  "
            ],
            "text/html": [
              "\n",
              "  <div id=\"df-e89b888f-088c-4d3f-8db1-941d3b8b3ca7\">\n",
              "    <div class=\"colab-df-container\">\n",
              "      <div>\n",
              "<style scoped>\n",
              "    .dataframe tbody tr th:only-of-type {\n",
              "        vertical-align: middle;\n",
              "    }\n",
              "\n",
              "    .dataframe tbody tr th {\n",
              "        vertical-align: top;\n",
              "    }\n",
              "\n",
              "    .dataframe thead th {\n",
              "        text-align: right;\n",
              "    }\n",
              "</style>\n",
              "<table border=\"1\" class=\"dataframe\">\n",
              "  <thead>\n",
              "    <tr style=\"text-align: right;\">\n",
              "      <th></th>\n",
              "      <th>store_nbr</th>\n",
              "      <th>onpromotion</th>\n",
              "      <th>cluster</th>\n",
              "      <th>dcoilwtico</th>\n",
              "      <th>transactions</th>\n",
              "      <th>n_holidays</th>\n",
              "    </tr>\n",
              "  </thead>\n",
              "  <tbody>\n",
              "    <tr>\n",
              "      <th>count</th>\n",
              "      <td>28512.000000</td>\n",
              "      <td>28512.000000</td>\n",
              "      <td>28512.000000</td>\n",
              "      <td>21384.000000</td>\n",
              "      <td>0.0</td>\n",
              "      <td>28512.000000</td>\n",
              "    </tr>\n",
              "    <tr>\n",
              "      <th>mean</th>\n",
              "      <td>27.500000</td>\n",
              "      <td>6.965383</td>\n",
              "      <td>8.481481</td>\n",
              "      <td>47.243333</td>\n",
              "      <td>NaN</td>\n",
              "      <td>0.062500</td>\n",
              "    </tr>\n",
              "    <tr>\n",
              "      <th>std</th>\n",
              "      <td>15.586057</td>\n",
              "      <td>20.683952</td>\n",
              "      <td>4.649816</td>\n",
              "      <td>0.753922</td>\n",
              "      <td>NaN</td>\n",
              "      <td>0.242066</td>\n",
              "    </tr>\n",
              "    <tr>\n",
              "      <th>min</th>\n",
              "      <td>1.000000</td>\n",
              "      <td>0.000000</td>\n",
              "      <td>1.000000</td>\n",
              "      <td>45.960000</td>\n",
              "      <td>NaN</td>\n",
              "      <td>0.000000</td>\n",
              "    </tr>\n",
              "    <tr>\n",
              "      <th>25%</th>\n",
              "      <td>14.000000</td>\n",
              "      <td>0.000000</td>\n",
              "      <td>4.000000</td>\n",
              "      <td>46.715000</td>\n",
              "      <td>NaN</td>\n",
              "      <td>0.000000</td>\n",
              "    </tr>\n",
              "    <tr>\n",
              "      <th>50%</th>\n",
              "      <td>27.500000</td>\n",
              "      <td>0.000000</td>\n",
              "      <td>8.500000</td>\n",
              "      <td>47.250000</td>\n",
              "      <td>NaN</td>\n",
              "      <td>0.000000</td>\n",
              "    </tr>\n",
              "    <tr>\n",
              "      <th>75%</th>\n",
              "      <td>41.000000</td>\n",
              "      <td>6.000000</td>\n",
              "      <td>13.000000</td>\n",
              "      <td>47.650000</td>\n",
              "      <td>NaN</td>\n",
              "      <td>0.000000</td>\n",
              "    </tr>\n",
              "    <tr>\n",
              "      <th>max</th>\n",
              "      <td>54.000000</td>\n",
              "      <td>646.000000</td>\n",
              "      <td>17.000000</td>\n",
              "      <td>48.590000</td>\n",
              "      <td>NaN</td>\n",
              "      <td>1.000000</td>\n",
              "    </tr>\n",
              "  </tbody>\n",
              "</table>\n",
              "</div>\n",
              "      <button class=\"colab-df-convert\" onclick=\"convertToInteractive('df-e89b888f-088c-4d3f-8db1-941d3b8b3ca7')\"\n",
              "              title=\"Convert this dataframe to an interactive table.\"\n",
              "              style=\"display:none;\">\n",
              "        \n",
              "  <svg xmlns=\"http://www.w3.org/2000/svg\" height=\"24px\"viewBox=\"0 0 24 24\"\n",
              "       width=\"24px\">\n",
              "    <path d=\"M0 0h24v24H0V0z\" fill=\"none\"/>\n",
              "    <path d=\"M18.56 5.44l.94 2.06.94-2.06 2.06-.94-2.06-.94-.94-2.06-.94 2.06-2.06.94zm-11 1L8.5 8.5l.94-2.06 2.06-.94-2.06-.94L8.5 2.5l-.94 2.06-2.06.94zm10 10l.94 2.06.94-2.06 2.06-.94-2.06-.94-.94-2.06-.94 2.06-2.06.94z\"/><path d=\"M17.41 7.96l-1.37-1.37c-.4-.4-.92-.59-1.43-.59-.52 0-1.04.2-1.43.59L10.3 9.45l-7.72 7.72c-.78.78-.78 2.05 0 2.83L4 21.41c.39.39.9.59 1.41.59.51 0 1.02-.2 1.41-.59l7.78-7.78 2.81-2.81c.8-.78.8-2.07 0-2.86zM5.41 20L4 18.59l7.72-7.72 1.47 1.35L5.41 20z\"/>\n",
              "  </svg>\n",
              "      </button>\n",
              "      \n",
              "  <style>\n",
              "    .colab-df-container {\n",
              "      display:flex;\n",
              "      flex-wrap:wrap;\n",
              "      gap: 12px;\n",
              "    }\n",
              "\n",
              "    .colab-df-convert {\n",
              "      background-color: #E8F0FE;\n",
              "      border: none;\n",
              "      border-radius: 50%;\n",
              "      cursor: pointer;\n",
              "      display: none;\n",
              "      fill: #1967D2;\n",
              "      height: 32px;\n",
              "      padding: 0 0 0 0;\n",
              "      width: 32px;\n",
              "    }\n",
              "\n",
              "    .colab-df-convert:hover {\n",
              "      background-color: #E2EBFA;\n",
              "      box-shadow: 0px 1px 2px rgba(60, 64, 67, 0.3), 0px 1px 3px 1px rgba(60, 64, 67, 0.15);\n",
              "      fill: #174EA6;\n",
              "    }\n",
              "\n",
              "    [theme=dark] .colab-df-convert {\n",
              "      background-color: #3B4455;\n",
              "      fill: #D2E3FC;\n",
              "    }\n",
              "\n",
              "    [theme=dark] .colab-df-convert:hover {\n",
              "      background-color: #434B5C;\n",
              "      box-shadow: 0px 1px 3px 1px rgba(0, 0, 0, 0.15);\n",
              "      filter: drop-shadow(0px 1px 2px rgba(0, 0, 0, 0.3));\n",
              "      fill: #FFFFFF;\n",
              "    }\n",
              "  </style>\n",
              "\n",
              "      <script>\n",
              "        const buttonEl =\n",
              "          document.querySelector('#df-e89b888f-088c-4d3f-8db1-941d3b8b3ca7 button.colab-df-convert');\n",
              "        buttonEl.style.display =\n",
              "          google.colab.kernel.accessAllowed ? 'block' : 'none';\n",
              "\n",
              "        async function convertToInteractive(key) {\n",
              "          const element = document.querySelector('#df-e89b888f-088c-4d3f-8db1-941d3b8b3ca7');\n",
              "          const dataTable =\n",
              "            await google.colab.kernel.invokeFunction('convertToInteractive',\n",
              "                                                     [key], {});\n",
              "          if (!dataTable) return;\n",
              "\n",
              "          const docLinkHtml = 'Like what you see? Visit the ' +\n",
              "            '<a target=\"_blank\" href=https://colab.research.google.com/notebooks/data_table.ipynb>data table notebook</a>'\n",
              "            + ' to learn more about interactive tables.';\n",
              "          element.innerHTML = '';\n",
              "          dataTable['output_type'] = 'display_data';\n",
              "          await google.colab.output.renderOutput(dataTable, element);\n",
              "          const docLink = document.createElement('div');\n",
              "          docLink.innerHTML = docLinkHtml;\n",
              "          element.appendChild(docLink);\n",
              "        }\n",
              "      </script>\n",
              "    </div>\n",
              "  </div>\n",
              "  "
            ]
          },
          "metadata": {},
          "execution_count": 7
        }
      ],
      "source": [
        "import pandas as pd\n",
        "\n",
        "df_train = pd.read_csv('/content/Store-Sales/test_data_cleaned.csv')\n",
        "#df_train = pd.read_csv('test_data_cleaned.csv')\n",
        "\n",
        "\n",
        "print(\"hello word\")\n",
        "x=4\n",
        "x=5\n",
        "print(x)\n",
        "\n",
        "\n",
        "df_train.describe()"
      ]
    },
    {
      "cell_type": "code",
      "execution_count": 8,
      "id": "35a05016-9d80-4958-815d-3ce03df703fd",
      "metadata": {
        "id": "35a05016-9d80-4958-815d-3ce03df703fd",
        "outputId": "c68227b0-9660-4bad-a408-6b611f3019e3",
        "colab": {
          "base_uri": "https://localhost:8080/"
        }
      },
      "outputs": [
        {
          "output_type": "stream",
          "name": "stdout",
          "text": [
            "family\n",
            "BEVERAGES          864\n",
            "BREAD/BAKERY       864\n",
            "CLEANING           864\n",
            "DAIRY              864\n",
            "DELI               864\n",
            "GROCERY I          864\n",
            "MEATS              864\n",
            "Others           19872\n",
            "PERSONAL CARE      864\n",
            "POULTRY            864\n",
            "PRODUCE            864\n",
            "Name: family, dtype: int64\n",
            "Row count is: 11\n"
          ]
        }
      ],
      "source": [
        "groupe_family= df_train.groupby(['family'])['family'].count()\n",
        "\n",
        "print(groupe_family)\n",
        "\n",
        "print('Row count is:', len(groupe_family.index))"
      ]
    },
    {
      "cell_type": "code",
      "execution_count": 9,
      "id": "ae8aa1e0-aa6c-44e8-ac0c-0163ad11c397",
      "metadata": {
        "id": "ae8aa1e0-aa6c-44e8-ac0c-0163ad11c397",
        "colab": {
          "base_uri": "https://localhost:8080/"
        },
        "outputId": "0c1db143-a890-4fc8-ec8b-f525e4e54e30"
      },
      "outputs": [
        {
          "output_type": "stream",
          "name": "stdout",
          "text": [
            "<class 'pandas.core.frame.DataFrame'>\n",
            "RangeIndex: 28512 entries, 0 to 28511\n",
            "Data columns (total 10 columns):\n",
            " #   Column         Non-Null Count  Dtype  \n",
            "---  ------         --------------  -----  \n",
            " 0   date           28512 non-null  object \n",
            " 1   store_nbr      28512 non-null  int64  \n",
            " 2   family         28512 non-null  object \n",
            " 3   onpromotion    28512 non-null  int64  \n",
            " 4   city           28512 non-null  object \n",
            " 5   type_of_store  28512 non-null  object \n",
            " 6   cluster        28512 non-null  int64  \n",
            " 7   dcoilwtico     21384 non-null  float64\n",
            " 8   transactions   0 non-null      float64\n",
            " 9   n_holidays     28512 non-null  float64\n",
            "dtypes: float64(3), int64(3), object(4)\n",
            "memory usage: 2.2+ MB\n"
          ]
        }
      ],
      "source": [
        "df_train.info()"
      ]
    }
  ],
  "metadata": {
    "kernelspec": {
      "display_name": "Python 3 (ipykernel)",
      "language": "python",
      "name": "python3"
    },
    "language_info": {
      "codemirror_mode": {
        "name": "ipython",
        "version": 3
      },
      "file_extension": ".py",
      "mimetype": "text/x-python",
      "name": "python",
      "nbconvert_exporter": "python",
      "pygments_lexer": "ipython3",
      "version": "3.9.12"
    },
    "toc-showcode": false,
    "toc-showmarkdowntxt": true,
    "colab": {
      "provenance": []
    }
  },
  "nbformat": 4,
  "nbformat_minor": 5
}